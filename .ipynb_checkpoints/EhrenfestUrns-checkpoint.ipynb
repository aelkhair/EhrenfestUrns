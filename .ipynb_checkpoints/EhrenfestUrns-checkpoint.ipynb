{
 "cells": [
  {
   "cell_type": "code",
   "execution_count": 1,
   "metadata": {},
   "outputs": [],
   "source": [
    "import random\n",
    "import numpy\n",
    "import matplotlib.pyplot as plt"
   ]
  },
  {
   "cell_type": "code",
   "execution_count": 2,
   "metadata": {},
   "outputs": [],
   "source": [
    "def occurences(vect, x):\n",
    "    n = len(vect)\n",
    "    c = 0\n",
    "    for k in range(n):\n",
    "        if vect[k] == x:\n",
    "            c+=1\n",
    "    return c"
   ]
  },
  {
   "cell_type": "code",
   "execution_count": 6,
   "metadata": {},
   "outputs": [],
   "source": [
    "def initialisation(N, n_g):\n",
    "    pos = [0]*N\n",
    "    for k in range(0,n_g):\n",
    "        pos[k] = 0\n",
    "    for k in range(n_g,N):\n",
    "        pos[k] = 1\n",
    "    init_urne = pos\n",
    "    return init_urne"
   ]
  },
  {
   "cell_type": "code",
   "execution_count": 7,
   "metadata": {},
   "outputs": [],
   "source": [
    "def transfert_particule(vect_urne):\n",
    "    n_particules = len(vect_urne)\n",
    "    tirage = random.randint(0, n_particules-1)\n",
    "    if vect_urne[tirage] == 1:\n",
    "        vect_urne[tirage] = 0\n",
    "    else:\n",
    "        vect_urne[tirage] = 1\n",
    "    return vect_urne"
   ]
  },
  {
   "cell_type": "code",
   "execution_count": 15,
   "metadata": {},
   "outputs": [],
   "source": [
    "# Parametres (nombre de particules, nombre de particules dans l'urne gauche,nombre de transfert)\n",
    "N = 1000; n_g = N; tf = 10000\n",
    "\n",
    "# Vecteur des evolutions urnes (urne droite, urne gauche, vecteur d'equilibre)\n",
    "vect_g = []\n",
    "vect_d = []\n",
    "vect_eq = []"
   ]
  },
  {
   "cell_type": "code",
   "execution_count": 16,
   "metadata": {},
   "outputs": [
    {
     "name": "stdout",
     "output_type": "stream",
     "text": [
      "A t=0, l'urne gauche contient n_g = 1000 particules et l'urne droite contient n_d = 0 particules.\n"
     ]
    }
   ],
   "source": [
    "# Initialisation avec les parametres à t=0\n",
    "urnes = initialisation(N,n_g)\n",
    "print(\"A t={}, l'urne gauche contient n_g = {} particules et l'urne droite contient n_d = {} particules.\".format(0, occurences(urnes,0),occurences(urnes,1)))\n",
    "vect_g.append(occurences(urnes,0))\n",
    "vect_d.append(occurences(urnes,1))\n",
    "vect_eq.append(N/2)"
   ]
  },
  {
   "cell_type": "code",
   "execution_count": 17,
   "metadata": {},
   "outputs": [],
   "source": [
    "# Simulation de l'evolution en appliquant la fonction de transfert\n",
    "for t in range(1,tf):\n",
    "    urnes = transfert_particule(urnes)\n",
    "    vect_g.append(occurences(urnes,0))\n",
    "    vect_d.append(occurences(urnes,1))\n",
    "    vect_eq.append(N/2)"
   ]
  },
  {
   "cell_type": "code",
   "execution_count": 19,
   "metadata": {},
   "outputs": [
    {
     "data": {
      "image/png": "[encoded data removed]",
      "text/plain": [
       "<Figure size 432x288 with 1 Axes>"
      ]
     },
     "metadata": {},
     "output_type": "display_data"
    }
   ],
   "source": [
    "plt.plot(vect_g, color='b', label = 'Urne n°1')\n",
    "plt.plot(vect_d, color='r', label = 'Urne n°2')\n",
    "plt.plot(vect_eq, color='k')\n",
    "plt.legend()\n",
    "plt.xlabel(\"Pas de Simulation\")\n",
    "plt.ylabel(\"Nombre de particules\")\n",
    "plt.show()"
   ]
  }
 ],
 "metadata": {
  "kernelspec": {
   "display_name": "Python 3",
   "language": "python",
   "name": "python3"
  },
  "language_info": {
   "codemirror_mode": {
    "name": "ipython",
    "version": 3
   },
   "file_extension": ".py",
   "mimetype": "text/x-python",
   "name": "python",
   "nbconvert_exporter": "python",
   "pygments_lexer": "ipython3",
   "version": "3.6.8"
  }
 },
 "nbformat": 4,
 "nbformat_minor": 2
}
